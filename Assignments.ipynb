{
 "cells": [
  {
   "cell_type": "markdown",
   "metadata": {},
   "source": [
    "# **Basic Python**"
   ]
  },
  {
   "cell_type": "markdown",
   "metadata": {},
   "source": [
    "## 1.a \n",
    "Give a function F that takes a single argument n. This function should print a sequence of n strings as described in the examples below: <br>\n",
    "Ex: **n = 3**\n",
    "\n",
    "--A--<br>\n",
    "-BAB-<br>\n",
    "CBABC<br>\n",
    "\n",
    "**n = 4**\n",
    "\n",
    "---A---<br>\n",
    "--BAB--<br>\n",
    "-CBABC-<br>\n",
    "DCBABCD"
   ]
  },
  {
   "cell_type": "code",
   "execution_count": null,
   "metadata": {},
   "outputs": [],
   "source": [
    "def F(n):\n",
    "    for i in range(n):\n",
    "        for j in range(n-i-1,0,-1):\n",
    "            print(\"-\",end=\"\")\n",
    "        for k in range(i):\n",
    "            if i==0:\n",
    "                continue\n",
    "            x=chr(65+i-k)\n",
    "            print(x,end=\"\")\n",
    "        print(\"A\",end=\"\")\n",
    "        for k in range(i):\n",
    "            if i==0:\n",
    "                continue\n",
    "            x=chr(65+k+1)\n",
    "            print(x,end=\"\")\n",
    "        for j in range(n-i-1,0,-1):\n",
    "            print(\"-\",end=\"\")\n",
    "        print()\n",
    "        pass\n",
    "\n",
    "# Tests\n",
    "F(10)\n",
    "F(6)"
   ]
  },
  {
   "cell_type": "markdown",
   "metadata": {},
   "source": [
    "## 1.b\n",
    "Make a function F that takes only one argument, a dictionary(dict) d.\n",
    "The keys of d are integers and the values of d are a tuple of type (x (int), y (int)).\n",
    "You must print out the dict in the format \"-key-, -x-, -y-\" with each entry in a new line. Print it for each of the three sorted orders, by key values ascending, by x values descending, by y values ascending."
   ]
  },
  {
   "cell_type": "code",
   "execution_count": null,
   "metadata": {},
   "outputs": [],
   "source": [
    "def F(d : dict):\n",
    "    #ascending order of keys\n",
    "    for i in sorted(d.keys()):\n",
    "        print(\"-\",i,\"-\",\",\",sep=\"\",end=\"\")\n",
    "        for j in range(len(d[i])):\n",
    "            print(\"-\",d[i][j],\"-\",sep=\"\",end=\"\")\n",
    "            if j==(len(d[i])-1):\n",
    "                break\n",
    "            print(\",\",end=\"\")\n",
    "        print()\n",
    "    #descending order of x values\n",
    "    d1={}\n",
    "    for i,j in d.items():\n",
    "        d1[j[0]]=i;\n",
    "    for i in sorted(d1.keys(),reverse=True):\n",
    "        print(\"-\",d1[i],\"-\",\",\",sep=\"\",end=\"\")\n",
    "        for j in range(2):\n",
    "            print(\"-\",d[d1[i]][j],\"-\",sep=\"\",end=\"\")\n",
    "            if j==1:\n",
    "                break\n",
    "            print(\",\",end=\"\")\n",
    "        print()\n",
    "    #ascending order of y values\n",
    "    d1={}\n",
    "    for i,j in d.items():\n",
    "        d1[j[1]]=i\n",
    "    for i in sorted(d1.keys()):\n",
    "        print(\"-\",d1[i],\"-\",\",\",sep=\"\",end=\"\")\n",
    "        for j in range(2):\n",
    "            print(\"-\",d[d1[i]][j],\"-\",sep=\"\",end=\"\")\n",
    "            if j==1:\n",
    "                break\n",
    "            print(\",\",end=\"\")\n",
    "        print()\n",
    "    pass\n",
    "\n",
    "# Tests\n",
    "F({1 : (1, 2), 2 : (-1, 4), 5 : (-4, 3), 4 : (2, 3)})\n",
    "F({-8 : (4, 2), 6 : (-3, 4), 7 : (2, 1), 5 : (9, -10)})"
   ]
  },
  {
   "cell_type": "markdown",
   "metadata": {},
   "source": [
    "## 2 Working with Student Records\n",
    "\n",
    "Use the data in **student_records.csv** to complete the given tasks. Do not include any external libraries. Use a Python dictionary if required.\n",
    "\n",
    "### Reference\n",
    "- [Python Dictionaries](https://www.w3schools.com/python/python_dictionaries.asp)\n"
   ]
  },
  {
   "cell_type": "markdown",
   "metadata": {},
   "source": [
    "#### 2.a: open the student_records.csv file and print out the first 10 rows"
   ]
  },
  {
   "cell_type": "code",
   "execution_count": null,
   "metadata": {},
   "outputs": [],
   "source": [
    "import csv\n",
    "file=open(\"student_records.csv\",\"r\")\n",
    "robject=csv.reader(file)\n",
    "for i in range(1,11):\n",
    "    print(robject[i])\n",
    "file.close()"
   ]
  },
  {
   "cell_type": "markdown",
   "metadata": {},
   "source": [
    "#### 2.b: Print out the total credits and calculte CPI of each student. \n",
    "CPI is the weighted average of core courses, and electives (weights being the letter grades converted to number AP,AA=10, AB=9, BB=9, BC=7, CC=6)"
   ]
  },
  {
   "cell_type": "code",
   "execution_count": null,
   "metadata": {},
   "outputs": [],
   "source": [
    "import csv\n",
    "with open(\"student_records.csv\",\"r\") as file:\n",
    "    robject=csv.reader(file)\n",
    "    next(robject)\n",
    "    credits={}\n",
    "    CPI={}\n",
    "    for course in robject:\n",
    "        if course[0] in CPI.keys():\n",
    "            if course[5]==(\"AA\" or \"AP\"):\n",
    "                CPI[course[0]]=(CPI[course[0]]*credits[course[0]]+10*int(course[2]))/(credits[course[0]]+int(course[2]))\n",
    "            elif course[5]==\"AB\":\n",
    "                CPI[course[0]]=(CPI[course[0]]*credits[course[0]]+9*int(course[2]))/(credits[course[0]]+int(course[2]))\n",
    "            elif course[5]==\"BB\":\n",
    "                CPI[course[0]]=(CPI[course[0]]*credits[course[0]]+8*int(course[2]))/(credits[course[0]]+int(course[2]))\n",
    "            elif course[5]==\"BC\":\n",
    "                CPI[course[0]]=(CPI[course[0]]*credits[course[0]]+7*int(course[2]))/(credits[course[0]]+int(course[2]))\n",
    "            elif course[5]==\"CC\":\n",
    "                CPI[course[0]]=(CPI[course[0]]*credits[course[0]]+6*int(course[2]))/(credits[course[0]]+int(course[2]))\n",
    "        else:\n",
    "            if course[5]==(\"AA\" or \"AP\"):\n",
    "                CPI[course[0]]=(10)/int(course[2])\n",
    "            elif course[5]==\"AB\":\n",
    "                CPI[course[0]]=(9)/int(course[2])\n",
    "            elif course[5]==\"BB\":\n",
    "                CPI[course[0]]=(8)/int(course[2])\n",
    "            elif course[5]==\"BC\":\n",
    "                CPI[course[0]]=(7)/int(course[2])\n",
    "            elif course[5]==\"CC\":\n",
    "                CPI[course[0]]=(6)/int(course[2])\n",
    "            \n",
    "        if course[0] in credits.keys():\n",
    "            credits[course[0]]+=int(course[2])\n",
    "        else:\n",
    "            credits[course[0]]=int(course[2])\n",
    "    for i,j in credits.items():\n",
    "        print(\"Roll No: \",i,\" \",\"Credits: \",j,\" \",\"CPI: \",CPI[i])"
   ]
  },
  {
   "cell_type": "markdown",
   "metadata": {},
   "source": [
    "#### 2.c: Print out the names of all students who meet the graduation requirements \n",
    "Atleast 20 credist of core course, 15 credits of department elective, 10 credits of flexible elective and 5 credits of hasmed electives"
   ]
  },
  {
   "cell_type": "code",
   "execution_count": null,
   "metadata": {},
   "outputs": [],
   "source": [
    "import csv\n",
    "with open(\"student_records.csv\",\"r\") as file:\n",
    "    robject=csv.reader(file)\n",
    "    next(robject)\n",
    "    core,dept,flex,hasmed={},{},{},{}\n",
    "    for course in robject:\n",
    "        if course[4]==\"core\":\n",
    "            if course[0] in core.keys():\n",
    "                core[course[0]]+=int(course[2])\n",
    "            else:\n",
    "                core[course[0]]=int(course[2])\n",
    "        elif course[4]==\"department_elective\":\n",
    "            if course[0] in dept.keys():\n",
    "                dept[course[0]]+=int(course[2])\n",
    "            else:\n",
    "                dept[course[0]]=int(course[2])\n",
    "        elif course[4]==\"flexible_elective\":\n",
    "            if course[0] in flex.keys():\n",
    "                flex[course[0]]+=int(course[2])\n",
    "            else:\n",
    "                flex[course[0]]=int(course[2])\n",
    "        elif course[4]==\"hasmed_elective\":\n",
    "            if course[0] in hasmed.keys():\n",
    "                hasmed[course[0]]+=int(course[2])\n",
    "            else:\n",
    "                hasmed[course[0]]=int(course[2])\n",
    "    for i in core.keys():\n",
    "        if (core[i]>=20) and (dept[i]>=15) and (flex[i]>=10) and (hasmed[i]>=5):\n",
    "            print(i)"
   ]
  },
  {
   "cell_type": "markdown",
   "metadata": {},
   "source": [
    "#### 2.d: Print out the names of all students who completed a minor \n",
    "Atleast 10 credits with minor tag in a specific department"
   ]
  },
  {
   "cell_type": "code",
   "execution_count": null,
   "metadata": {},
   "outputs": [],
   "source": [
    "import csv\n",
    "with open(\"student_records.csv\",\"r\") as file:\n",
    "    robject=csv.reader(file)\n",
    "    next(robject)\n",
    "    minor={}\n",
    "    for course in robject:\n",
    "        if course[4]==\"minor\":\n",
    "            if course[0] in minor.keys():\n",
    "                minor[course[0]][course[1]]+=int(course[2])\n",
    "            else:\n",
    "                minor[course[0]]=dict()\n",
    "                minor[course[0]][course[1]]=int(course[2])\n",
    "    for i,j in minor.items():\n",
    "        for k in j.values():\n",
    "            if k>=10:\n",
    "                print(i)\n",
    "                break"
   ]
  },
  {
   "cell_type": "markdown",
   "metadata": {},
   "source": [
    "#### 2.e: Print out the names of all students who completed a honours\n",
    "Atleast 10 credits with honours tag and 20 core credits"
   ]
  },
  {
   "cell_type": "code",
   "execution_count": null,
   "metadata": {},
   "outputs": [],
   "source": [
    "import csv\n",
    "with open(\"student_records.csv\",\"r\") as file:\n",
    "    robject=csv.reader(file)\n",
    "    next(robject)\n",
    "    core,hon={},{}\n",
    "    for course in robject:\n",
    "        if course[4]==\"core\":\n",
    "            if course[0] in core.keys():\n",
    "                core[course[0]]+=int(course[2])\n",
    "            else:\n",
    "                core[course[0]]=int(course[2])\n",
    "        elif course[4]==\"honours\":\n",
    "            if course[0] in hon.keys():\n",
    "                hon[course[0]]+=int(course[2])\n",
    "            else:\n",
    "                hon[course[0]]=int(course[2])\n",
    "    for i in core.keys():\n",
    "        if (core[i]>=20) and (hon[i]>=10):\n",
    "            print(i)"
   ]
  },
  {
   "cell_type": "markdown",
   "metadata": {},
   "source": [
    "# **SciPy** "
   ]
  },
  {
   "cell_type": "markdown",
   "metadata": {},
   "source": [
    "## Part A\n",
    "Minimize the function $f(x, y) = 2(x - y - 3)^2 + 4(x + 2y + 1)^4$.<br>\n",
    "With the constraints : $ x - y \\ge -3, (x + 2)^2 + (y + 1)^2 \\le 5$ <br>\n",
    "Using scipy.optimize.minimize with constraints. (Hint: Look at the examples in the official documentation)"
   ]
  },
  {
   "cell_type": "code",
   "execution_count": null,
   "metadata": {},
   "outputs": [],
   "source": [
    "import scipy.optimize as spo\n",
    "def f(xy):\n",
    "    x=xy[0]\n",
    "    y=xy[1]\n",
    "    z=2*(x-y-3)**2 + 4*(x+2*y+1)**4\n",
    "    return z\n",
    "xy_start=[10,10]\n",
    "cons=[{\"type\":\"eq\", \"fun\":lambda xy: -xy[0]+xy[1]-3}, {\"type\":\"eq\", \"fun\":lambda xy: (xy[0]+2)**2 + (xy[1]+1)**2 - 5}]\n",
    "result=spo.minimize(f,xy_start,constraints=cons)\n",
    "print(\"inputs: \",result.x,\"output: \",result.fun)"
   ]
  },
  {
   "cell_type": "markdown",
   "metadata": {},
   "source": [
    "# Part B\n",
    "Evaluate the line integral of the function $f(x, y) = x^2 + y^4$ along the circle $ x^2 + y^2 = 3 $ anticlockwise (scalar integral, not vector). You must use scipy for integration but you may use parameterization"
   ]
  },
  {
   "cell_type": "code",
   "execution_count": null,
   "metadata": {},
   "outputs": [],
   "source": [
    "import scipy.integrate as spi\n",
    "from math import *\n",
    "def f(x):\n",
    "    return ((3*(cos(x))**2 + 9*(sin(x))**4)*(-3)*sin(x)*cos(x))\n",
    "lower=0\n",
    "upper=2*(pi)\n",
    "integ=spi.dblquad(f,lower,upper)\n",
    "print(integ)"
   ]
  },
  {
   "cell_type": "markdown",
   "metadata": {},
   "source": [
    "# **Numpy**"
   ]
  },
  {
   "cell_type": "markdown",
   "metadata": {},
   "source": [
    "### Read Lisan_Al_Gaib.pdf for problem description and complete the following functions"
   ]
  },
  {
   "cell_type": "code",
   "execution_count": null,
   "metadata": {},
   "outputs": [],
   "source": [
    "import time # to time the execution\n",
    "import numpy as np\n",
    "import matplotlib.pyplot as plt"
   ]
  },
  {
   "cell_type": "code",
   "execution_count": null,
   "metadata": {},
   "outputs": [],
   "source": [
    "### TODO 1\n",
    "### Load data from data_path\n",
    "### Check the input file spice_locations.txt to understand the Data Format\n",
    "### Return : np array of size Nx2\n",
    "def load_data(data_path):\n",
    "    file=np.loadtxt(data_path,dtype=float,delimiter=\",\")\n",
    "    return file"
   ]
  },
  {
   "cell_type": "code",
   "execution_count": null,
   "metadata": {},
   "outputs": [],
   "source": [
    "### TODO 2.1\n",
    "### If init_centers is None, initialize the centers by selecting K data points at random without replacement\n",
    "### Else, use the centers provided in init_centers\n",
    "### Return : np array of size Kx2\n",
    "def initialise_centers(data, K, init_centers=None):\n",
    "    if (init_centers==None):\n",
    "        np.random.shuffle(data)\n",
    "        spcent=data[:K]\n",
    "        return spcent\n",
    "    else:\n",
    "        return init_centers"
   ]
  },
  {
   "cell_type": "code",
   "execution_count": null,
   "metadata": {},
   "outputs": [],
   "source": [
    "### TODO 2.2\n",
    "### Initialize the labels to all ones to size (N,) where N is the number of data points\n",
    "### Return : np array of size N\n",
    "def initialise_labels(data):\n",
    "    labels=np.ones(data.shape[0])\n",
    "    return labels"
   ]
  },
  {
   "cell_type": "code",
   "execution_count": null,
   "metadata": {},
   "outputs": [],
   "source": [
    "### TODO 3.1 : E step\n",
    "### For Each data point, find the distance to each center\n",
    "### Return : np array of size NxK\n",
    "def calculate_distances(data, centers):\n",
    "    squared_diff=np.sum(data[:,np.newaxis,:]-centers[np.newaxis,:,:],axis=2)**2\n",
    "    distances=np.sqrt(squared_diff)\n",
    "    return distances"
   ]
  },
  {
   "cell_type": "code",
   "execution_count": null,
   "metadata": {},
   "outputs": [],
   "source": [
    "### TODO 3.2 : E step\n",
    "### For Each data point, assign the label of the nearest center\n",
    "### Return : np array of size N\n",
    "def update_labels(distances):\n",
    "    labels_new=np.min(distances,axis=1)\n",
    "    return labels_new"
   ]
  },
  {
   "cell_type": "code",
   "execution_count": null,
   "metadata": {},
   "outputs": [],
   "source": [
    "### TODO 4 : M step\n",
    "### Update the centers to the mean of the data points assigned to it\n",
    "### Return : np array of size Kx2\n",
    "def update_centers(data, labels, K):\n",
    "    unique_labels=np.unique(labels)\n",
    "    means=[]\n",
    "    for i in unique_labels:\n",
    "        mask=(labels==i)\n",
    "        mean_val=np.mean(data[mask],axis=0)\n",
    "        means.append(mean_val)\n",
    "    return means"
   ]
  },
  {
   "cell_type": "code",
   "execution_count": null,
   "metadata": {},
   "outputs": [],
   "source": [
    "### TODO 6 : Check convergence\n",
    "### Check if the labels have changed from the previous iteration\n",
    "### Return : True / False\n",
    "def check_termination(labels1, labels2):\n",
    "    if labels1==labels2: return True\n",
    "    else: return False"
   ]
  },
  {
   "cell_type": "code",
   "execution_count": null,
   "metadata": {},
   "outputs": [],
   "source": [
    "### DON'T CHANGE ANYTHING IN THE FOLLOWING FUNCTION\n",
    "def kmeans(data_path:str, K:int, init_centers):\n",
    "    '''\n",
    "    Input :\n",
    "        data (type str): path to the file containing the data\n",
    "        K (type int): number of clusters\n",
    "        init_centers (type numpy.ndarray): initial centers. shape = (K, 2) or None\n",
    "    Output :\n",
    "        centers (type numpy.ndarray): final centers. shape = (K, 2)\n",
    "        labels (type numpy.ndarray): label of each data point. shape = (N,)\n",
    "        time (type float): time taken by the algorithm to converge in seconds\n",
    "    N is the number of data points each of shape (2,)\n",
    "    '''\n",
    "    data = load_data(data_path)    \n",
    "    centers = initialise_centers(data, K, init_centers)\n",
    "    labels = initialise_labels(data)\n",
    "\n",
    "    start_time = time.time() # Time stamp \n",
    "\n",
    "    while True:\n",
    "        distances = calculate_distances(data, centers)\n",
    "        labels_new = update_labels(distances)\n",
    "        centers = update_centers(data, labels_new, K)\n",
    "        if check_termination(labels, labels_new): break\n",
    "        else: labels = labels_new\n",
    " \n",
    "    end_time = time.time() # Time stamp after the algorithm ends\n",
    "    return centers, labels, end_time - start_time "
   ]
  },
  {
   "cell_type": "code",
   "execution_count": null,
   "metadata": {},
   "outputs": [],
   "source": [
    "### TODO 7\n",
    "def visualise(data_path, labels, centers):\n",
    "    data = load_data(data_path)\n",
    "\n",
    "    # Scatter plot of the data points\n",
    "    plt.scatter(data[:, 0], data[:, 1], c=labels, s=50, cmap='viridis')\n",
    "    plt.scatter(centers[:, 0], centers[:, 1], c='black', s=200, alpha=0.5)\n",
    "\n",
    "    ### Set title as 'K-means clustering'\n",
    "    plt.title('K-means clustering')\n",
    "\n",
    "    ### Set xlabel as 'Longitude'\n",
    "    plt.xlabel('Longitude')\n",
    "\n",
    "    ### Set ylabel as 'Latitude'\n",
    "    plt.ylabel('Latitude')\n",
    "\n",
    "    ### Save the plot as 'kmeans.png'\n",
    "    plt.savefig('kmeans.png')\n",
    "\n",
    "\n",
    "    ## DO NOT CHANGE THE FOLLOWING LINE\n",
    "    return plt"
   ]
  },
  {
   "cell_type": "code",
   "execution_count": null,
   "metadata": {},
   "outputs": [],
   "source": [
    "### After you have completed the above functions, run the following code to generate the plot\n",
    "data_path = 'spice_locations.txt'\n",
    "K, init_centers = 2, None\n",
    "centers, labels, time_taken = kmeans(data_path, K, init_centers)\n",
    "print('Time taken for the algorithm to converge:', time_taken)\n",
    "visualise(data_path, labels, centers)"
   ]
  }
 ],
 "metadata": {
  "kernelspec": {
   "display_name": "Python 3",
   "language": "python",
   "name": "python3"
  },
  "language_info": {
   "codemirror_mode": {
    "name": "ipython",
    "version": 3
   },
   "file_extension": ".py",
   "mimetype": "text/x-python",
   "name": "python",
   "nbconvert_exporter": "python",
   "pygments_lexer": "ipython3",
   "version": "3.10.12"
  }
 },
 "nbformat": 4,
 "nbformat_minor": 2
}
